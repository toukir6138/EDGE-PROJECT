{
  "nbformat": 4,
  "nbformat_minor": 0,
  "metadata": {
    "colab": {
      "provenance": [],
      "authorship_tag": "ABX9TyMV5JGzVA7p8FUvMARtpnh3",
      "include_colab_link": true
    },
    "kernelspec": {
      "name": "python3",
      "display_name": "Python 3"
    },
    "language_info": {
      "name": "python"
    }
  },
  "cells": [
    {
      "cell_type": "markdown",
      "metadata": {
        "id": "view-in-github",
        "colab_type": "text"
      },
      "source": [
        "<a href=\"https://colab.research.google.com/github/toukir6138/EDGE-PROJECT/blob/main/Final_Project.ipynb\" target=\"_parent\"><img src=\"https://colab.research.google.com/assets/colab-badge.svg\" alt=\"Open In Colab\"/></a>"
      ]
    },
    {
      "cell_type": "code",
      "execution_count": null,
      "metadata": {
        "colab": {
          "base_uri": "https://localhost:8080/"
        },
        "id": "nQ6htFCrOKRQ",
        "outputId": "26cda065-744b-401b-b53c-042da44af1b8"
      },
      "outputs": [
        {
          "output_type": "stream",
          "name": "stdout",
          "text": [
            "Toukir\n"
          ]
        }
      ],
      "source": [
        "print(\"Toukir\")"
      ]
    },
    {
      "cell_type": "markdown",
      "source": [
        "***DATA COLLECTION AND STORAGE***"
      ],
      "metadata": {
        "id": "zouQ3TSHjXpH"
      }
    },
    {
      "cell_type": "code",
      "source": [
        "import csv\n",
        "with open (\"studentinfo.csv\",\"w\") as file:\n",
        "  writer = csv.writer(file)\n",
        "  writer.writerow(['Student ID','Student Name','Subject','Subject,Score','Attendance Percentage','Assignment Completion'])"
      ],
      "metadata": {
        "id": "RToummJUjdPH"
      },
      "execution_count": null,
      "outputs": []
    },
    {
      "cell_type": "code",
      "source": [
        "#to add new record to existing csv file\n",
        "def add_record():\n",
        "  with open (\"studentinfo.csv\",\"a\") as file:\n",
        "    writer = csv.writer(file)\n",
        "\n",
        "\n",
        "    student_id = input(\"Enter Student ID (or type 'DONE' to finish): \")\n",
        "\n",
        "\n",
        "    student_name = input(\"Enter Student Name: \")\n",
        "    subject = input(\"Enter Subject: \")\n",
        "    score = input(\"Enter Score: \")\n",
        "    attendance = input(\"Enter Attendance Percentage: \")\n",
        "    assignment = input(\"Enter Assignment Completion: \")\n",
        "\n",
        "    writer.writerow([student_id, student_name, subject, score, attendance, assignment])\n",
        "\n",
        "    file.close()\n",
        "    print(\"Data has been written to student_info.csv\")\n",
        "\n",
        "\n",
        "#to get student info using student id\n",
        "def getinfo(student_id):\n",
        "  with open (\"studentinfo.csv\",\"r\") as file:\n",
        "    reader = csv.reader(file)\n",
        "    for row in reader:\n",
        "      if row[0] == student_id:\n",
        "        return row"
      ],
      "metadata": {
        "id": "gZ_DAgB0jW8g"
      },
      "execution_count": null,
      "outputs": []
    },
    {
      "cell_type": "markdown",
      "source": [
        "***FILE HANDELING***"
      ],
      "metadata": {
        "id": "jL00UrGrjjlO"
      }
    },
    {
      "cell_type": "code",
      "source": [
        "with open (\"studentinfo.csv\",\"r\") as file:\n",
        "  print(file.read())"
      ],
      "metadata": {
        "id": "BLLkWYSQjl1n"
      },
      "execution_count": null,
      "outputs": []
    },
    {
      "cell_type": "markdown",
      "source": [
        "***INTERACTIVE CONSOLE***"
      ],
      "metadata": {
        "id": "SKAHbfNLjuke"
      }
    },
    {
      "cell_type": "code",
      "source": [
        "while True:\n",
        "  print(\"Menu\")\n",
        "  print(\"1. Add Record\")\n",
        "  print(\"2. View Record\")\n",
        "  print(\"3. Update Record\")\n",
        "  print(\"4. Delete Record\")\n",
        "  print(\"5. Exit\")\n",
        "\n",
        "  choice = input(\"Enter your choice (1-5): \").strip()\n",
        "\n",
        "  if choice == \"1\":\n",
        "    add_record()\n",
        "  if choice == \"2\":\n",
        "    student_id = input(\"Enter Student ID to search: \")\n",
        "    result = getinfo(student_id)\n",
        "    print(f\"Student information with ID {student_id} : {result}\")\n",
        "    break\n",
        "  if choice == \"5\":\n",
        "    print(\"Exiting the program\")\n",
        "    break"
      ],
      "metadata": {
        "id": "ukScPChGjuDe"
      },
      "execution_count": 2,
      "outputs": []
    },
    {
      "cell_type": "code",
      "source": [],
      "metadata": {
        "id": "I4h9J10WjuBX"
      },
      "execution_count": null,
      "outputs": []
    },
    {
      "cell_type": "code",
      "source": [],
      "metadata": {
        "id": "-CIlixuEjt-_"
      },
      "execution_count": null,
      "outputs": []
    }
  ]
}