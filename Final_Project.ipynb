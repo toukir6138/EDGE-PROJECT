{
  "nbformat": 4,
  "nbformat_minor": 0,
  "metadata": {
    "colab": {
      "provenance": [],
      "authorship_tag": "ABX9TyNDqknMhTv6kocfv+Ut2GR/",
      "include_colab_link": true
    },
    "kernelspec": {
      "name": "python3",
      "display_name": "Python 3"
    },
    "language_info": {
      "name": "python"
    }
  },
  "cells": [
    {
      "cell_type": "markdown",
      "metadata": {
        "id": "view-in-github",
        "colab_type": "text"
      },
      "source": [
        "<a href=\"https://colab.research.google.com/github/toukir6138/EDGE-PROJECT/blob/main/Final_Project.ipynb\" target=\"_parent\"><img src=\"https://colab.research.google.com/assets/colab-badge.svg\" alt=\"Open In Colab\"/></a>"
      ]
    },
    {
      "cell_type": "code",
      "execution_count": null,
      "metadata": {
        "colab": {
          "base_uri": "https://localhost:8080/"
        },
        "id": "nQ6htFCrOKRQ",
        "outputId": "c21bf6b8-7e1f-4c8b-9972-5243f9f2f678"
      },
      "outputs": [
        {
          "output_type": "stream",
          "name": "stdout",
          "text": [
            "Trainee Name : Toukiroj Jaman\n",
            "Trainee ID   : PP-04-22\n"
          ]
        }
      ],
      "source": [
        "print('''Trainee Name : Toukiroj Jaman\n",
        "Trainee ID   : PP-04-22''')"
      ]
    },
    {
      "cell_type": "markdown",
      "source": [
        "***1. DATA COLLECTION AND STORAGE***"
      ],
      "metadata": {
        "id": "zouQ3TSHjXpH"
      }
    },
    {
      "cell_type": "code",
      "source": [
        "import csv\n",
        "with open (\"studentinfo.csv\",\"w\") as file:\n",
        "  writer = csv.writer(file)\n",
        "  writer.writerow(['Student ID','Student Name','Subject','Score','Attendance Percentage','Assignment Completion'])"
      ],
      "metadata": {
        "id": "RToummJUjdPH"
      },
      "execution_count": 1,
      "outputs": []
    },
    {
      "cell_type": "code",
      "source": [
        "#to add new record to existing csv file\n",
        "def add_record():\n",
        "  with open (\"studentinfo.csv\",\"a\") as file:\n",
        "    writer = csv.writer(file)\n",
        "\n",
        "\n",
        "    student_id = input(\"Enter Student ID : \")\n",
        "\n",
        "\n",
        "    student_name = input(\"Enter Student Name: \")\n",
        "    subject = input(\"Enter Subject: \")\n",
        "    score = input(\"Enter Score: \")\n",
        "    attendance = input(\"Enter Attendance Percentage: \")\n",
        "    assignment = input(\"Enter Assignment Completion: \")\n",
        "\n",
        "    writer.writerow([student_id, student_name, subject, score, attendance, assignment])\n",
        "\n",
        "    file.close()\n",
        "    print(\"Data has been written to student_info.csv\")\n",
        "\n",
        "\n",
        "#to get student info using student id\n",
        "def getinfo(student_id):\n",
        "  with open (\"studentinfo.csv\",\"r\") as file:\n",
        "    reader = csv.reader(file)\n",
        "    for row in reader:\n",
        "      if row[0] == student_id:\n",
        "        return row"
      ],
      "metadata": {
        "id": "gZ_DAgB0jW8g"
      },
      "execution_count": 4,
      "outputs": []
    },
    {
      "cell_type": "markdown",
      "source": [
        "***FILE HANDELING***"
      ],
      "metadata": {
        "id": "jL00UrGrjjlO"
      }
    },
    {
      "cell_type": "code",
      "source": [
        "with open (\"studentinfo.csv\",\"r\") as file:\n",
        "  print(file.read())"
      ],
      "metadata": {
        "id": "BLLkWYSQjl1n"
      },
      "execution_count": null,
      "outputs": []
    },
    {
      "cell_type": "markdown",
      "source": [
        "***INTERACTIVE CONSOLE***"
      ],
      "metadata": {
        "id": "SKAHbfNLjuke"
      }
    },
    {
      "cell_type": "code",
      "source": [
        "while True:\n",
        "  print(\"Menu\")\n",
        "  print(\"1. Add Record\")\n",
        "  print(\"2. View Record\")\n",
        "  print(\"3. Update Record\")\n",
        "  print(\"4. Delete Record\")\n",
        "  print(\"5. Exit\")\n",
        "\n",
        "  choice = input(\"Enter your choice (1-5): \").strip()\n",
        "\n",
        "  if choice == \"1\":\n",
        "    add_record()\n",
        "  if choice == \"2\":\n",
        "    student_id = input(\"Enter Student ID to search: \")\n",
        "    result = getinfo(student_id)\n",
        "    print(f\"Student information with ID {student_id} : {result}\")\n",
        "    break\n",
        "  if choice == \"5\":\n",
        "    print(\"Exiting the program\")\n",
        "    break"
      ],
      "metadata": {
        "id": "ukScPChGjuDe",
        "colab": {
          "base_uri": "https://localhost:8080/"
        },
        "outputId": "c8624d1e-c297-4da3-fdf8-82186ae93fe8"
      },
      "execution_count": 11,
      "outputs": [
        {
          "output_type": "stream",
          "name": "stdout",
          "text": [
            "Menu\n",
            "1. Add Record\n",
            "2. View Record\n",
            "3. Update Record\n",
            "4. Delete Record\n",
            "5. Exit\n",
            "Enter your choice (1-5): 1\n",
            "Enter Student ID : 04-D\n",
            "Enter Student Name: PRANTA\n",
            "Enter Subject: STA\n",
            "Enter Score: 75\n",
            "Enter Attendance Percentage: 76\n",
            "Enter Assignment Completion: YES\n",
            "Data has been written to student_info.csv\n",
            "Menu\n",
            "1. Add Record\n",
            "2. View Record\n",
            "3. Update Record\n",
            "4. Delete Record\n",
            "5. Exit\n",
            "Enter your choice (1-5): 1\n",
            "Enter Student ID : 04-D\n",
            "Enter Student Name: PRANTA\n",
            "Enter Subject: MAT\n",
            "Enter Score: 69\n",
            "Enter Attendance Percentage: 82\n",
            "Enter Assignment Completion: NO\n",
            "Data has been written to student_info.csv\n",
            "Menu\n",
            "1. Add Record\n",
            "2. View Record\n",
            "3. Update Record\n",
            "4. Delete Record\n",
            "5. Exit\n",
            "Enter your choice (1-5): 5\n",
            "Exiting the program\n"
          ]
        }
      ]
    },
    {
      "cell_type": "markdown",
      "source": [
        "#*READ CSV FILE*"
      ],
      "metadata": {
        "id": "vgpz19IlpoOR"
      }
    },
    {
      "cell_type": "code",
      "source": [
        "with open (\"studentinfo.csv\",\"r\") as file:\n",
        "  print(file.read())"
      ],
      "metadata": {
        "id": "I4h9J10WjuBX",
        "colab": {
          "base_uri": "https://localhost:8080/"
        },
        "outputId": "284cde73-7497-4c12-a55e-485bfe790d90"
      },
      "execution_count": 6,
      "outputs": [
        {
          "output_type": "stream",
          "name": "stdout",
          "text": [
            "Student ID,Student Name,Subject,\"Subject,Score\",Attendance Percentage,Assignment Completion\n",
            "01-A,TOUKIR,STA,79,90,YES\n",
            "02-B,AUDIT,STA,80,99,NO\n",
            "\n"
          ]
        }
      ]
    },
    {
      "cell_type": "markdown",
      "source": [
        "#SAVING TO DRIVE"
      ],
      "metadata": {
        "id": "v0o_EyfLsc-2"
      }
    },
    {
      "cell_type": "code",
      "source": [
        "from google.colab import drive\n",
        "drive.mount('/content/drive')"
      ],
      "metadata": {
        "id": "-CIlixuEjt-_",
        "colab": {
          "base_uri": "https://localhost:8080/"
        },
        "collapsed": true,
        "outputId": "b498da35-ba23-4ff4-fd85-00e601e37018"
      },
      "execution_count": 13,
      "outputs": [
        {
          "output_type": "stream",
          "name": "stdout",
          "text": [
            "Drive already mounted at /content/drive; to attempt to forcibly remount, call drive.mount(\"/content/drive\", force_remount=True).\n"
          ]
        }
      ]
    },
    {
      "cell_type": "code",
      "source": [
        "import shutil\n",
        "shutil.copy('studentinfo.csv', '/content/drive/My Drive/studentinfo.csv')"
      ],
      "metadata": {
        "colab": {
          "base_uri": "https://localhost:8080/",
          "height": 36
        },
        "id": "ZbPiZKyBrVhX",
        "outputId": "36dc041d-0337-40da-aff1-c755bc1916be"
      },
      "execution_count": 14,
      "outputs": [
        {
          "output_type": "execute_result",
          "data": {
            "text/plain": [
              "'/content/drive/My Drive/studentinfo.csv'"
            ],
            "application/vnd.google.colaboratory.intrinsic+json": {
              "type": "string"
            }
          },
          "metadata": {},
          "execution_count": 14
        }
      ]
    },
    {
      "cell_type": "markdown",
      "source": [
        "#*DATA ANALYSIS AND MANUPULATION*"
      ],
      "metadata": {
        "id": "VKmLl5RcsVHx"
      }
    },
    {
      "cell_type": "code",
      "source": [
        "\n",
        "\n",
        "import pandas as pd\n",
        "\n",
        "# Load the data\n",
        "data = pd.read_csv('studentinfo.csv', na_values=[])\n",
        "\n",
        "# print(data.head())\n",
        "\n",
        "# Group by student ID and get statistics\n",
        "student_stats = data.groupby(['Student ID','Student Name'])['Score'].agg(['min', 'max', 'mean'])\n",
        "\n",
        "# Rename columns for better readability\n",
        "student_stats = student_stats.rename(columns={\n",
        "    'min': 'Minimum Score',\n",
        "    'max': 'Maximum Score',\n",
        "    'mean': 'Average Score'\n",
        "})\n",
        "\n",
        "# Display results\n",
        "print(student_stats)"
      ],
      "metadata": {
        "colab": {
          "base_uri": "https://localhost:8080/"
        },
        "id": "p8_09XJ7sJLG",
        "outputId": "13c7f8e8-c57a-4193-c992-aab267b90ec7"
      },
      "execution_count": 33,
      "outputs": [
        {
          "output_type": "stream",
          "name": "stdout",
          "text": [
            "                         Minimum Score  Maximum Score  Average Score\n",
            "Student ID Student Name                                             \n",
            "01-A       TOUKIR                   79             91           85.0\n",
            "02-B       AUDIT                    69             80           74.5\n",
            "03-C       RIAD                     75             89           82.0\n",
            "04-D       PRANTA                   69             75           72.0\n"
          ]
        }
      ]
    },
    {
      "cell_type": "code",
      "source": [
        "\n",
        "# Convert 'Attendance Percentage' and 'Assignment Completion' to numeric, handling errors\n",
        "data['Attendance Percentage'] = pd.to_numeric(data['Attendance Percentage'], errors='coerce')\n",
        "data['Assignment Completion'] = data['Assignment Completion'].map({'YES': 1, 'NO': 0})\n",
        "\n",
        "# Filter for students with low attendance or missing assignments\n",
        "low_attendance_or_missing_assignments = data[\n",
        "    (data['Attendance Percentage'] < 75) | (data['Assignment Completion'] == 0)\n",
        "]\n",
        "\n",
        "# Display the result\n",
        "print(low_attendance_or_missing_assignments)"
      ],
      "metadata": {
        "colab": {
          "base_uri": "https://localhost:8080/"
        },
        "id": "Rla-E6HtsJGH",
        "outputId": "a36aa2a7-d0b6-4a60-f8b4-3358ee81405f"
      },
      "execution_count": 37,
      "outputs": [
        {
          "output_type": "stream",
          "name": "stdout",
          "text": [
            "  Student ID Student Name Subject  Score  Attendance Percentage  \\\n",
            "1       02-B        AUDIT     STA     80                     99   \n",
            "2       03-C         RIAD     STA     89                     97   \n",
            "3       01-A       TOUKIR     MAT     91                     89   \n",
            "7       04-D       PRANTA     MAT     69                     82   \n",
            "\n",
            "   Assignment Completion  \n",
            "1                      0  \n",
            "2                      0  \n",
            "3                      0  \n",
            "7                      0  \n"
          ]
        }
      ]
    },
    {
      "cell_type": "code",
      "source": [
        "print(data)"
      ],
      "metadata": {
        "colab": {
          "base_uri": "https://localhost:8080/"
        },
        "id": "F8Z78XavsJDu",
        "outputId": "77adcc64-f8cb-4e67-b727-3ed2725ff128"
      },
      "execution_count": 32,
      "outputs": [
        {
          "output_type": "stream",
          "name": "stdout",
          "text": [
            "  Student ID Student Name Subject  Score  Attendance Percentage  \\\n",
            "0       01-A       TOUKIR     STA     79                     90   \n",
            "1       02-B        AUDIT     STA     80                     99   \n",
            "2       03-C         RIAD     STA     89                     97   \n",
            "3       01-A       TOUKIR     MAT     91                     89   \n",
            "4       03-C         RIAD     MAT     75                     97   \n",
            "5       02-B        AUDIT     MAT     69                     85   \n",
            "6       04-D       PRANTA     STA     75                     76   \n",
            "7       04-D       PRANTA     MAT     69                     82   \n",
            "\n",
            "   Assignment Completion  \n",
            "0                    NaN  \n",
            "1                    NaN  \n",
            "2                    NaN  \n",
            "3                    NaN  \n",
            "4                    NaN  \n",
            "5                    NaN  \n",
            "6                    NaN  \n",
            "7                    NaN  \n"
          ]
        }
      ]
    },
    {
      "cell_type": "code",
      "source": [],
      "metadata": {
        "id": "52Q9ubc2sI98"
      },
      "execution_count": null,
      "outputs": []
    },
    {
      "cell_type": "code",
      "source": [],
      "metadata": {
        "id": "qMqyzcfysI4I"
      },
      "execution_count": null,
      "outputs": []
    },
    {
      "cell_type": "code",
      "source": [],
      "metadata": {
        "id": "aONL8qJusIyY"
      },
      "execution_count": null,
      "outputs": []
    }
  ]
}