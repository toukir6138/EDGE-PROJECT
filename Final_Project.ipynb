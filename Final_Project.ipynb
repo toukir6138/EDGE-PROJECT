{
  "nbformat": 4,
  "nbformat_minor": 0,
  "metadata": {
    "colab": {
      "provenance": [],
      "collapsed_sections": [
        "QwaL5WL15oWq"
      ],
      "authorship_tag": "ABX9TyN84aiw9eipq/x5kuetgabh",
      "include_colab_link": true
    },
    "kernelspec": {
      "name": "python3",
      "display_name": "Python 3"
    },
    "language_info": {
      "name": "python"
    }
  },
  "cells": [
    {
      "cell_type": "markdown",
      "metadata": {
        "id": "view-in-github",
        "colab_type": "text"
      },
      "source": [
        "<a href=\"https://colab.research.google.com/github/toukir6138/EDGE-PROJECT-22/blob/main/Final_Project.ipynb\" target=\"_parent\"><img src=\"https://colab.research.google.com/assets/colab-badge.svg\" alt=\"Open In Colab\"/></a>"
      ]
    },
    {
      "cell_type": "code",
      "execution_count": null,
      "metadata": {
        "colab": {
          "base_uri": "https://localhost:8080/"
        },
        "id": "nQ6htFCrOKRQ",
        "outputId": "c21bf6b8-7e1f-4c8b-9972-5243f9f2f678"
      },
      "outputs": [
        {
          "output_type": "stream",
          "name": "stdout",
          "text": [
            "Trainee Name : Toukiroj Jaman\n",
            "Trainee ID   : PP-04-22\n"
          ]
        }
      ],
      "source": [
        "print('''Trainee Name : Toukiroj Jaman\n",
        "Trainee ID   : PP-04-22''')"
      ]
    },
    {
      "cell_type": "markdown",
      "source": [
        "#***1. DATA COLLECTION AND STORAGE***"
      ],
      "metadata": {
        "id": "zouQ3TSHjXpH"
      }
    },
    {
      "cell_type": "code",
      "source": [
        "import re\n",
        "import csv"
      ],
      "metadata": {
        "id": "RSEKSCZ9re7M"
      },
      "execution_count": 27,
      "outputs": []
    },
    {
      "cell_type": "code",
      "source": [
        "import csv\n",
        "with open (\"studentinfo.csv\",\"w\") as file:\n",
        "  writer = csv.writer(file)\n",
        "  writer.writerow(['Student ID','Student Name','Subject','Score','Attendance Percentage','Assignment Completion'])"
      ],
      "metadata": {
        "id": "RToummJUjdPH"
      },
      "execution_count": null,
      "outputs": []
    },
    {
      "cell_type": "code",
      "source": [
        "#to add new record to existing csv file\n",
        "def add_record():\n",
        "  with open (\"/content/drive/My Drive/studentinfo.csv\",\"a\") as file:\n",
        "    writer = csv.writer(file)\n",
        "\n",
        "\n",
        "    student_id = input(\"Enter Student ID : \")\n",
        "    student_name = input(\"Enter Student Name: \")\n",
        "    subject = input(\"Enter Subject: \")\n",
        "    score = input(\"Enter Score: \")\n",
        "    attendance = input(\"Enter Attendance Percentage: \")\n",
        "    assignment = input(\"Enter Assignment Completion: \")\n",
        "\n",
        "    writer.writerow([student_id, student_name, subject, score, attendance, assignment])\n",
        "\n",
        "    file.close()\n",
        "    print(\"Data has been written to student_info.csv\")\n",
        "\n",
        "\n",
        "#to get student info using student id\n",
        "def getinfo():\n",
        "    student_id = input(\"Enter Student ID to search: \")\n",
        "    with open(\"/content/drive/My Drive/studentinfo.csv\", \"r\") as file:\n",
        "        reader = csv.reader(file)\n",
        "        found = False\n",
        "        for row in reader:\n",
        "            if row[0] == student_id:\n",
        "                print(row)\n",
        "                found = True\n",
        "\n",
        "        if not found:\n",
        "            print(\"Student ID not found\")"
      ],
      "metadata": {
        "id": "gZ_DAgB0jW8g"
      },
      "execution_count": 29,
      "outputs": []
    },
    {
      "cell_type": "markdown",
      "source": [
        "#***FILE HANDELING***"
      ],
      "metadata": {
        "id": "jL00UrGrjjlO"
      }
    },
    {
      "cell_type": "code",
      "source": [
        "with open (\"/content/drive/My Drive/studentinfo.csv\",\"r\") as file:\n",
        "  print(file.read())"
      ],
      "metadata": {
        "id": "BLLkWYSQjl1n",
        "colab": {
          "base_uri": "https://localhost:8080/"
        },
        "outputId": "efdbe322-babd-4d68-9546-b9122724ad4d"
      },
      "execution_count": 13,
      "outputs": [
        {
          "output_type": "stream",
          "name": "stdout",
          "text": [
            "Student ID,Student Name,Subject,Score,Attendance Percentage,Assignment Completion\n",
            "01-A,TOUKIR,MAT,90,87,YES\n",
            "01-A,TOUKIR,STA,79,90,YES\n",
            "02-B,AUDIT,CSE,89,78,YES\n",
            "02-B,AUDIT,SOC,80,99,NO\n",
            "03-C,RIAD,PAD,68,88,YES\n",
            "03-C,RIAD,CSE,89,97,NO\n",
            "04-D,ASIF,CSE,71,87,YES\n",
            "04-D,ASIF,MAT,91,89,NO\n",
            "05-E,ALI,ECO,79,81,NO\n",
            "05-E,ALI,SCW,75,97,YES\n",
            "06-F,BORMAN,SWE,79,81,NO\n",
            "06-F,BORMAN,PAD,69,85,YES\n",
            "07-G,NADIM,BNG,81,85,NO\n",
            "07-G,NADIM,STA,75,76,YES\n",
            "08-H,IMRUL,IPE,76,81,YES\n",
            "08-H,IMRUL,MAT,69,82,NO\n",
            "\n"
          ]
        }
      ]
    },
    {
      "cell_type": "markdown",
      "source": [
        "#***Modified or updated data back to a new CSV file***"
      ],
      "metadata": {
        "id": "QwaL5WL15oWq"
      }
    },
    {
      "cell_type": "code",
      "source": [
        "#to modify subject score of a student\n",
        "def modify_score():\n",
        "  student_id = input(\"Enter Student ID to modify: \")\n",
        "  subject = input(\"Enter subject to modify: \")\n",
        "  with open(\"studentinfo.csv\", \"r\") as file:\n",
        "    reader = csv.reader(file)\n",
        "    data = list(reader)\n",
        "\n",
        "    #to modify existing data\n",
        "    for row in data:\n",
        "      if row[0] == student_id and row[2] == subject:\n",
        "        row[3] = input(\"Enter new score: \")\n",
        "        break\n",
        "    #to update modified data\n",
        "    with open(\"studentinfo.csv\", \"w\") as file:\n",
        "      writer = csv.writer(file)\n",
        "      writer.writerows(data)\n",
        "\n",
        "  print(\"Modified score has been written to studentinfo.csv\")\n",
        "\n",
        "  #to modify attendance percentage\n",
        "def modify_attendance():\n",
        "  student_id = input(\"Enter Student ID to modify: \")\n",
        "  subject = input(\"Enter subject to modify: \")\n",
        "  with open(\"studentinfo.csv\", \"r\") as file:\n",
        "    reader = csv.reader(file)\n",
        "    data = list(reader)\n",
        "\n",
        "    for row in data:\n",
        "      if row[0] == student_id and row[2] == subject:\n",
        "        row[4] = input(\"Enter new attendance percentage: \")\n",
        "        break\n",
        "      #to update modified data\n",
        "    with open(\"studentinfo.csv\", \"w\") as file:\n",
        "      writer = csv.writer(file)\n",
        "      writer.writerows(data)\n",
        "\n",
        "    print(\"Modified attendance percentage has been written to studentinfo.csv\")\n",
        "\n",
        "#to modify assignment completation\n",
        "def modify_assignment():\n",
        "  student_id = input(\"Enter Student ID to modify: \")\n",
        "  subject = input(\"Enter subject to modify: \")\n",
        "  with open(\"studentinfo.csv\", \"r\") as file:\n",
        "    reader = csv.reader(file)\n",
        "    data = list(reader)\n",
        "\n",
        "    for row in data:\n",
        "      if row[0] == student_id and row[2] == subject:\n",
        "        row[5] = input(\"Enter new assignment completion: \")\n",
        "        break\n",
        "        #to update modified data\n",
        "    with open(\"studentinfo.csv\", \"w\") as file:\n",
        "      writer = csv.writer(file)\n",
        "      writer.writerows(data)\n",
        "\n",
        "    print(\"Modified assignment completion has been written to studentinfo.csv\")"
      ],
      "metadata": {
        "id": "tDi5DAU9mhrZ"
      },
      "execution_count": 18,
      "outputs": []
    },
    {
      "cell_type": "code",
      "source": [
        "while True:\n",
        "  print(\"Modify Data\")\n",
        "  print(\"1. Modify score\")\n",
        "  print(\"2. Modify Attendance\")\n",
        "  print(\"3. Modify Assignment Percentage\")\n",
        "  print(\"4. Exit\")\n",
        "\n",
        "  choice = input(\"Enter your choice (1-4): \").strip()\n",
        "\n",
        "  if choice == \"1\":\n",
        "    modify_score()\n",
        "  if choice == \"2\":\n",
        "    modify_attendance()\n",
        "  if choice == \"3\":\n",
        "    modify_assignment()\n",
        "  if choice == \"4\":\n",
        "    print(\"Exiting the program\")\n",
        "    break"
      ],
      "metadata": {
        "colab": {
          "base_uri": "https://localhost:8080/"
        },
        "id": "DJqbCTRQmC8p",
        "outputId": "62d36efc-e5f7-4b1e-ed0c-097426ecc3fc"
      },
      "execution_count": 19,
      "outputs": [
        {
          "output_type": "stream",
          "name": "stdout",
          "text": [
            "Modify Data\n",
            "1. Modify score\n",
            "2. Modify Attendance\n",
            "3. Modify Assignment Percentage\n",
            "4. Exit\n",
            "Enter your choice (1-4): 4\n",
            "Exiting the program\n"
          ]
        }
      ]
    },
    {
      "cell_type": "markdown",
      "source": [
        "#***INTERACTIVE CONSOLE***"
      ],
      "metadata": {
        "id": "SKAHbfNLjuke"
      }
    },
    {
      "cell_type": "code",
      "source": [
        "while True:\n",
        "  print(\"Menu\")\n",
        "  print(\"1. Add Record\")\n",
        "  print(\"2. View Record\")\n",
        "  print(\"3. Update Record\")\n",
        "  print(\"4. Delete Record\")\n",
        "  print(\"5. Exit\")\n",
        "\n",
        "  choice = input(\"Enter your choice (1-5): \").strip()\n",
        "\n",
        "  if choice == \"1\":\n",
        "    add_record()\n",
        "  if choice == \"2\":\n",
        "    getinfo()\n",
        "\n",
        "\n",
        "  if choice == \"5\":\n",
        "    print(\"Exiting the program\")\n",
        "    break"
      ],
      "metadata": {
        "id": "ukScPChGjuDe",
        "colab": {
          "base_uri": "https://localhost:8080/"
        },
        "outputId": "d11531de-43fe-4e2f-9fab-48624798fc03"
      },
      "execution_count": 30,
      "outputs": [
        {
          "output_type": "stream",
          "name": "stdout",
          "text": [
            "Menu\n",
            "1. Add Record\n",
            "2. View Record\n",
            "3. Update Record\n",
            "4. Delete Record\n",
            "5. Exit\n",
            "Enter your choice (1-5): 2\n",
            "Enter Student ID to search: 01-A\n",
            "['01-A', 'TOUKIR', 'MAT', '90', '87', 'YES']\n",
            "['01-A', 'TOUKIR', 'STA', '79', '90', 'YES']\n",
            "Menu\n",
            "1. Add Record\n",
            "2. View Record\n",
            "3. Update Record\n",
            "4. Delete Record\n",
            "5. Exit\n",
            "Enter your choice (1-5): 5\n",
            "Exiting the program\n"
          ]
        }
      ]
    },
    {
      "cell_type": "markdown",
      "source": [
        "#***READ CSV FILE***"
      ],
      "metadata": {
        "id": "vgpz19IlpoOR"
      }
    },
    {
      "cell_type": "code",
      "source": [
        "with open (\"studentinfo.csv\",\"r\") as file:\n",
        "  print(file.read())"
      ],
      "metadata": {
        "id": "I4h9J10WjuBX",
        "colab": {
          "base_uri": "https://localhost:8080/",
          "height": 159
        },
        "outputId": "fe9154d9-609b-405c-81e4-0d44bfe86ac3"
      },
      "execution_count": null,
      "outputs": [
        {
          "output_type": "error",
          "ename": "FileNotFoundError",
          "evalue": "[Errno 2] No such file or directory: 'studentinfo.csv'",
          "traceback": [
            "\u001b[0;31m---------------------------------------------------------------------------\u001b[0m",
            "\u001b[0;31mFileNotFoundError\u001b[0m                         Traceback (most recent call last)",
            "\u001b[0;32m<ipython-input-1-091cf94a56f0>\u001b[0m in \u001b[0;36m<cell line: 1>\u001b[0;34m()\u001b[0m\n\u001b[0;32m----> 1\u001b[0;31m \u001b[0;32mwith\u001b[0m \u001b[0mopen\u001b[0m \u001b[0;34m(\u001b[0m\u001b[0;34m\"studentinfo.csv\"\u001b[0m\u001b[0;34m,\u001b[0m\u001b[0;34m\"r\"\u001b[0m\u001b[0;34m)\u001b[0m \u001b[0;32mas\u001b[0m \u001b[0mfile\u001b[0m\u001b[0;34m:\u001b[0m\u001b[0;34m\u001b[0m\u001b[0;34m\u001b[0m\u001b[0m\n\u001b[0m\u001b[1;32m      2\u001b[0m   \u001b[0mprint\u001b[0m\u001b[0;34m(\u001b[0m\u001b[0mfile\u001b[0m\u001b[0;34m.\u001b[0m\u001b[0mread\u001b[0m\u001b[0;34m(\u001b[0m\u001b[0;34m)\u001b[0m\u001b[0;34m)\u001b[0m\u001b[0;34m\u001b[0m\u001b[0;34m\u001b[0m\u001b[0m\n",
            "\u001b[0;31mFileNotFoundError\u001b[0m: [Errno 2] No such file or directory: 'studentinfo.csv'"
          ]
        }
      ]
    },
    {
      "cell_type": "markdown",
      "source": [
        "#***SAVING TO DRIVE***"
      ],
      "metadata": {
        "id": "v0o_EyfLsc-2"
      }
    },
    {
      "cell_type": "code",
      "source": [
        "from google.colab import drive\n",
        "drive.mount('/content/drive')"
      ],
      "metadata": {
        "id": "-CIlixuEjt-_",
        "colab": {
          "base_uri": "https://localhost:8080/"
        },
        "outputId": "d85bf515-3d24-450d-fcf4-db2bd174c43d"
      },
      "execution_count": 10,
      "outputs": [
        {
          "output_type": "stream",
          "name": "stdout",
          "text": [
            "Mounted at /content/drive\n"
          ]
        }
      ]
    },
    {
      "cell_type": "code",
      "source": [
        "# import shutil\n",
        "# shutil.copy('studentinfo.csv', '/content/drive/My Drive/studentinfo.csv')"
      ],
      "metadata": {
        "id": "ZbPiZKyBrVhX"
      },
      "execution_count": null,
      "outputs": []
    },
    {
      "cell_type": "markdown",
      "source": [
        "#***DATA ANALYSIS AND MANUPULATION***"
      ],
      "metadata": {
        "id": "VKmLl5RcsVHx"
      }
    },
    {
      "cell_type": "code",
      "source": [
        "import pandas as pd"
      ],
      "metadata": {
        "id": "INo-zq2Vm6Ng"
      },
      "execution_count": 2,
      "outputs": []
    },
    {
      "cell_type": "code",
      "source": [
        "data = pd.read_csv('/content/drive/My Drive/studentinfo.csv', na_values=['YES' == 1, 'NO' == 0])\n",
        "\n",
        "# print(data.head())\n",
        "\n",
        "student_stats = data.groupby(['Student ID','Student Name'])['Score'].agg(['min', 'max', 'mean'])\n",
        "\n",
        "student_stats = student_stats.rename(columns={\n",
        "    'min': 'Minimum Score',\n",
        "    'max': 'Maximum Score',\n",
        "    'mean': 'Average Score'\n",
        "})\n",
        "\n",
        "print(student_stats)"
      ],
      "metadata": {
        "colab": {
          "base_uri": "https://localhost:8080/"
        },
        "id": "p8_09XJ7sJLG",
        "outputId": "4254ffed-4e7c-4dd5-84a3-8c6e94c71a2a"
      },
      "execution_count": 5,
      "outputs": [
        {
          "output_type": "stream",
          "name": "stdout",
          "text": [
            "                         Minimum Score  Maximum Score  Average Score\n",
            "Student ID Student Name                                             \n",
            "01-A       TOUKIR                   79             90           84.5\n",
            "02-B       AUDIT                    80             89           84.5\n",
            "03-C       RIAD                     68             89           78.5\n",
            "04-D       ASIF                     71             91           81.0\n",
            "05-E       ALI                      75             79           77.0\n",
            "06-F       BORMAN                   69             79           74.0\n",
            "07-G       NADIM                    75             81           78.0\n",
            "08-H       IMRUL                    69             76           72.5\n"
          ]
        }
      ]
    },
    {
      "cell_type": "code",
      "source": [],
      "metadata": {
        "id": "-TJMcv_o2yer"
      },
      "execution_count": null,
      "outputs": []
    },
    {
      "cell_type": "code",
      "source": [
        "low_attendance_or_missing_assignments = data[\n",
        "    (data['Attendance Percentage'] < 75) | (data['Assignment Completion'] == 'NO')]\n",
        "\n",
        "# Display the result\n",
        "print(low_attendance_or_missing_assignments)"
      ],
      "metadata": {
        "colab": {
          "base_uri": "https://localhost:8080/"
        },
        "id": "Rla-E6HtsJGH",
        "outputId": "d5201fd9-0c16-467a-9834-cfd1fcaeb52d"
      },
      "execution_count": null,
      "outputs": [
        {
          "output_type": "stream",
          "name": "stdout",
          "text": [
            "   Student ID Student Name Subject  Score  Attendance Percentage  \\\n",
            "3        02-B        AUDIT     SOC     80                     99   \n",
            "5        03-C         RIAD     CSE     89                     97   \n",
            "7        04-D         ASIF     MAT     91                     89   \n",
            "8        05-E          ALI     ECO     79                     81   \n",
            "10       06-F       BORMAN     SWE     79                     81   \n",
            "12       07-G        NADIM     BNG     81                     85   \n",
            "15       08-H        IMRUL     MAT     69                     82   \n",
            "\n",
            "   Assignment Completion  \n",
            "3                     NO  \n",
            "5                     NO  \n",
            "7                     NO  \n",
            "8                     NO  \n",
            "10                    NO  \n",
            "12                    NO  \n",
            "15                    NO  \n"
          ]
        }
      ]
    },
    {
      "cell_type": "code",
      "source": [
        "data['Score'] = pd.to_numeric(data['Score'])\n",
        "\n",
        "\n",
        "failed_students = data[(data['Score'] < 70) & (data['Subject'] == 'IPE')][['Student ID','Student Name','Subject','Score']]\n",
        "\n",
        "print(f'Failed students information :\\n {failed_students}')"
      ],
      "metadata": {
        "colab": {
          "base_uri": "https://localhost:8080/"
        },
        "id": "Sn4v8fiC7pPG",
        "outputId": "45cb644f-1498-458a-daab-a7ef0699b178"
      },
      "execution_count": null,
      "outputs": [
        {
          "output_type": "stream",
          "name": "stdout",
          "text": [
            "Failed students information :\n",
            " Empty DataFrame\n",
            "Columns: [Student ID, Student Name, Subject, Score]\n",
            "Index: []\n"
          ]
        }
      ]
    },
    {
      "cell_type": "markdown",
      "source": [
        "#***CONVERT SCORE TO INTEGER IF STORED AS STRING***"
      ],
      "metadata": {
        "id": "6P88mKx4npiX"
      }
    },
    {
      "cell_type": "code",
      "source": [
        "if data['Score'].dtype == 'str':\n",
        "  data['Score'] = data['Score'].astype(int)\n",
        "  print(\"Score is converted to integer type.\")\n",
        "elif data['Score'].dtype == 'int64' or data['Score'].dtype == 'int32':\n",
        "    print(\"Score is stored as an integer.\")\n"
      ],
      "metadata": {
        "id": "qMqyzcfysI4I",
        "colab": {
          "base_uri": "https://localhost:8080/"
        },
        "outputId": "43e8eeb3-0fb7-4831-ccce-39698bc051ab"
      },
      "execution_count": null,
      "outputs": [
        {
          "output_type": "stream",
          "name": "stdout",
          "text": [
            "Score is stored as an integer.\n"
          ]
        }
      ]
    },
    {
      "cell_type": "markdown",
      "source": [
        "#***PLOT A BAR CHART FOR AVERAGE OF SCORE BY SUBJECT***"
      ],
      "metadata": {
        "id": "cnfMLCAg4EAm"
      }
    },
    {
      "cell_type": "code",
      "source": [
        "import matplotlib.pyplot as plt"
      ],
      "metadata": {
        "id": "F6stoqVFovZG"
      },
      "execution_count": 10,
      "outputs": []
    },
    {
      "cell_type": "code",
      "source": [
        "average_scores = data.groupby('Subject')['Score'].mean()\n",
        "\n",
        "average_scores.plot(kind='bar', figsize=(6, 4))\n",
        "plt.title('Average Scores by Subject')\n",
        "plt.xlabel('Subject')\n",
        "plt.ylabel('Average Score')\n",
        "plt.show()"
      ],
      "metadata": {
        "id": "aONL8qJusIyY",
        "colab": {
          "base_uri": "https://localhost:8080/",
          "height": 428
        },
        "outputId": "c6496e1f-a139-4c1f-db99-bbacf0be11f7"
      },
      "execution_count": null,
      "outputs": [
        {
          "output_type": "display_data",
          "data": {
            "text/plain": [
              "<Figure size 600x400 with 1 Axes>"
            ],
            "image/png": "[encoded data removed]"
          },
          "metadata": {}
        }
      ]
    },
    {
      "cell_type": "markdown",
      "source": [
        "# ***Display a pie chart of attendance percentage categories (e.g., <50%, 50-75%, >75%).***"
      ],
      "metadata": {
        "id": "RnF8pg2l4WtM"
      }
    },
    {
      "cell_type": "code",
      "source": [
        "\n",
        "data['Attendance Percentage'] = pd.to_numeric(data['Attendance Percentage'])\n",
        "\n",
        "\n",
        "below_80 = data['Attendance Percentage'] < 80\n",
        "between_80_85 = (data['Attendance Percentage'] >= 80) & (data['Attendance Percentage'] <= 85)\n",
        "above_90 = data['Attendance Percentage'] > 90\n",
        "\n",
        "\n",
        "counts = [below_80.sum(), between_80_85.sum(), above_90.sum()]\n",
        "labels = ['<80%', '80%-85%', '>90%']\n",
        "\n",
        "# Create the pie chart\n",
        "plt.pie(counts, labels=labels, autopct='%1.1f%%', startangle=90)\n",
        "plt.title('Attendance Percentage Categories')\n",
        "plt.show()"
      ],
      "metadata": {
        "colab": {
          "base_uri": "https://localhost:8080/",
          "height": 428
        },
        "id": "B3tWtNZuuQRt",
        "outputId": "aeb81f3b-cf7e-4ade-ef1a-073ed01ec8b3"
      },
      "execution_count": null,
      "outputs": [
        {
          "output_type": "display_data",
          "data": {
            "text/plain": [
              "<Figure size 640x480 with 1 Axes>"
            ],
            "image/png": "[encoded data removed]"
          },
          "metadata": {}
        }
      ]
    },
    {
      "cell_type": "markdown",
      "source": [
        "#***line graph showing performance trends over time for a selected student.***"
      ],
      "metadata": {
        "id": "FtngfsWu4jvK"
      }
    },
    {
      "cell_type": "code",
      "source": [
        "#function to generate line plot of specefic student using student id\n",
        "def lineplot_student_performance():\n",
        "  student_id = input(\"Enter Student ID to plot: \")\n",
        "\n",
        "  student_data = data[data['Student ID'] == student_id]\n",
        "\n",
        "  plt.plot(student_data.index, student_data['Score'], marker='*')\n",
        "  plt.title(f'Performance Trend for Student ID: {student_id}')\n",
        "  plt.xlabel('Time')\n",
        "  plt.ylabel('Score')\n",
        "  plt.grid(True)\n",
        "  plt.show()"
      ],
      "metadata": {
        "id": "UyUoji9nzcQb"
      },
      "execution_count": 11,
      "outputs": []
    },
    {
      "cell_type": "code",
      "source": [
        "#generate line plot of student\n",
        "while True:\n",
        "  print(\"Menu\")\n",
        "  print(\"1. Plot Student Performance\")\n",
        "  print(\"2. Exit\")\n",
        "\n",
        "  choice = input(\"Enter your choice (1-2): \").strip()\n",
        "\n",
        "  if choice == \"1\":\n",
        "    lineplot_student_performance()\n",
        "  if choice == \"2\":\n",
        "    print(\"Exiting the program\")\n",
        "    break"
      ],
      "metadata": {
        "colab": {
          "base_uri": "https://localhost:8080/",
          "height": 646
        },
        "id": "VD3h71LT3ks9",
        "outputId": "dad5ead6-886f-48c2-db14-77090422f093"
      },
      "execution_count": 12,
      "outputs": [
        {
          "name": "stdout",
          "output_type": "stream",
          "text": [
            "Menu\n",
            "1. Plot Student Performance\n",
            "2. Exit\n",
            "Enter your choice (1-2): 1\n",
            "Enter Student ID to plot: 02-B\n"
          ]
        },
        {
          "output_type": "display_data",
          "data": {
            "text/plain": [
              "<Figure size 640x480 with 1 Axes>"
            ],
            "image/png": "[encoded data removed]"
          },
          "metadata": {}
        },
        {
          "output_type": "stream",
          "name": "stdout",
          "text": [
            "Menu\n",
            "1. Plot Student Performance\n",
            "2. Exit\n",
            "Enter your choice (1-2): 2\n",
            "Exiting the program\n"
          ]
        }
      ]
    },
    {
      "cell_type": "code",
      "source": [
        "\n",
        "def agg_score():\n",
        "    student_id = input(\"Enter Student ID to calculate aggregate score: \")\n",
        "\n",
        "    # Filter data for the given student ID\n",
        "    student_data = data[data['Student ID'] == student_id]\n",
        "\n",
        "    # Check if student data is found\n",
        "    if student_data.empty:\n",
        "        print(f\"Student ID {student_id} not found in the data.\")\n",
        "\n",
        "    else:\n",
        "        # Calculate aggregate scores\n",
        "        aggregate_score = student_data['Score'].agg(['min', 'max', 'mean'])\n",
        "        print(f\"Aggregate score for student ID {student_id}: \\n{aggregate_score}\")\n",
        "        return aggregate_score\n",
        "\n",
        "\n",
        "while True:\n",
        "  print(\"Menu\")\n",
        "  print(\"1. Calculate Student Aggregate Score\")\n",
        "  print(\"2. Exit\")\n",
        "\n",
        "  choice = input(\"Enter your choice (1-2): \").strip()\n",
        "\n",
        "  if choice == \"1\":\n",
        "    agg_score()\n",
        "  if choice == \"2\":\n",
        "    print(\"Exiting the program\")\n",
        "    break"
      ],
      "metadata": {
        "id": "CMeNMZr65d6U"
      },
      "execution_count": 20,
      "outputs": []
    },
    {
      "cell_type": "code",
      "source": [
        "import re\n",
        "def validate_student_id():\n",
        "    student_id = input(\"Enter Student ID : \")\n",
        "\n",
        "    pattern = r'^0*[1-9]\\d*-[A-Z]$'\n",
        "    if re.match(pattern, student_id):\n",
        "        print(\"Student ID is valid.\")\n",
        "\n",
        "    else:\n",
        "        print(\"Student ID is invalid.\")\n",
        "\n",
        "validate_student_id()"
      ],
      "metadata": {
        "id": "MVCWUUj4zcHs",
        "colab": {
          "base_uri": "https://localhost:8080/"
        },
        "outputId": "2cb788e1-be09-47a8-ec1c-df552e6fe162"
      },
      "execution_count": 5,
      "outputs": [
        {
          "output_type": "stream",
          "name": "stdout",
          "text": [
            "Enter Student ID : A-01\n",
            "Student ID is invalid.\n"
          ]
        }
      ]
    }
  ]
}