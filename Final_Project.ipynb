{
  "nbformat": 4,
  "nbformat_minor": 0,
  "metadata": {
    "colab": {
      "provenance": [],
      "collapsed_sections": [
        "v0o_EyfLsc-2"
      ],
      "authorship_tag": "ABX9TyM0aIsP4NvfStdS+wHld0n1",
      "include_colab_link": true
    },
    "kernelspec": {
      "name": "python3",
      "display_name": "Python 3"
    },
    "language_info": {
      "name": "python"
    }
  },
  "cells": [
    {
      "cell_type": "markdown",
      "metadata": {
        "id": "view-in-github",
        "colab_type": "text"
      },
      "source": [
        "<a href=\"https://colab.research.google.com/github/toukir6138/EDGE-PROJECT/blob/main/Final_Project.ipynb\" target=\"_parent\"><img src=\"https://colab.research.google.com/assets/colab-badge.svg\" alt=\"Open In Colab\"/></a>"
      ]
    },
    {
      "cell_type": "code",
      "execution_count": null,
      "metadata": {
        "colab": {
          "base_uri": "https://localhost:8080/"
        },
        "id": "nQ6htFCrOKRQ",
        "outputId": "c21bf6b8-7e1f-4c8b-9972-5243f9f2f678"
      },
      "outputs": [
        {
          "output_type": "stream",
          "name": "stdout",
          "text": [
            "Trainee Name : Toukiroj Jaman\n",
            "Trainee ID   : PP-04-22\n"
          ]
        }
      ],
      "source": [
        "print('''Trainee Name : Toukiroj Jaman\n",
        "Trainee ID   : PP-04-22''')"
      ]
    },
    {
      "cell_type": "markdown",
      "source": [
        "#***1. DATA COLLECTION AND STORAGE***"
      ],
      "metadata": {
        "id": "zouQ3TSHjXpH"
      }
    },
    {
      "cell_type": "code",
      "source": [
        "import csv\n",
        "with open (\"studentinfo.csv\",\"w\") as file:\n",
        "  writer = csv.writer(file)\n",
        "  writer.writerow(['Student ID','Student Name','Subject','Score','Attendance Percentage','Assignment Completion'])"
      ],
      "metadata": {
        "id": "RToummJUjdPH"
      },
      "execution_count": null,
      "outputs": []
    },
    {
      "cell_type": "code",
      "source": [
        "#to add new record to existing csv file\n",
        "def add_record():\n",
        "  with open (\"studentinfo.csv\",\"a\") as file:\n",
        "    writer = csv.writer(file)\n",
        "\n",
        "\n",
        "    student_id = input(\"Enter Student ID : \")\n",
        "\n",
        "\n",
        "    student_name = input(\"Enter Student Name: \")\n",
        "    subject = input(\"Enter Subject: \")\n",
        "    score = input(\"Enter Score: \")\n",
        "    attendance = input(\"Enter Attendance Percentage: \")\n",
        "    assignment = input(\"Enter Assignment Completion: \")\n",
        "\n",
        "    writer.writerow([student_id, student_name, subject, score, attendance, assignment])\n",
        "\n",
        "    file.close()\n",
        "    print(\"Data has been written to student_info.csv\")\n",
        "\n",
        "\n",
        "#to get student info using student id\n",
        "def getinfo(student_id):\n",
        "  with open (\"studentinfo.csv\",\"r\") as file:\n",
        "    reader = csv.reader(file)\n",
        "    for row in reader:\n",
        "      if row[0] == student_id:\n",
        "        return row"
      ],
      "metadata": {
        "id": "gZ_DAgB0jW8g"
      },
      "execution_count": null,
      "outputs": []
    },
    {
      "cell_type": "markdown",
      "source": [
        "#***FILE HANDELING***"
      ],
      "metadata": {
        "id": "jL00UrGrjjlO"
      }
    },
    {
      "cell_type": "code",
      "source": [
        "with open (\"studentinfo.csv\",\"r\") as file:\n",
        "  print(file.read())"
      ],
      "metadata": {
        "id": "BLLkWYSQjl1n"
      },
      "execution_count": null,
      "outputs": []
    },
    {
      "cell_type": "markdown",
      "source": [
        "#***Modified or updated data back to a new CSV file***"
      ],
      "metadata": {
        "id": "QwaL5WL15oWq"
      }
    },
    {
      "cell_type": "code",
      "source": [
        "#to modify subject score of a student\n",
        "def modify_score():\n",
        "  student_id = input(\"Enter Student ID to modify: \")\n",
        "  subject = input(\"Enter subject to modify: \")\n",
        "  with open(\"studentinfo.csv\", \"r\") as file:\n",
        "    reader = csv.reader(file)\n",
        "    data = list(reader)\n",
        "\n",
        "    #to modify existing data\n",
        "    for row in data:\n",
        "      if row[0] == student_id and row[2] == subject:\n",
        "        row[3] = input(\"Enter new score: \")\n",
        "        break\n",
        "      elif row[0] == student_id and row[2] != subject:\n",
        "        print(\"Subject not found\")\n",
        "        break\n",
        "    #to update modified data\n",
        "    with open(\"studentinfo.csv\", \"w\") as file:\n",
        "      writer = csv.writer(file)\n",
        "      writer.writerows(data)\n",
        "\n",
        "  print(\"Modified score has been written to studentinfo.csv\")\n",
        "\n",
        "  #to modify attendance percentage\n",
        "def modify_attendance():\n",
        "  student_id = input(\"Enter Student ID to modify: \")\n",
        "  subject = input(\"Enter subject to modify: \")\n",
        "  with open(\"studentinfo.csv\", \"r\") as file:\n",
        "    reader = csv.reader(file)\n",
        "    data = list(reader)\n",
        "\n",
        "    for row in data:\n",
        "      if row[0] == student_id and row[2] == subject:\n",
        "        row[4] = input(\"Enter new attendance percentage: \")\n",
        "        break\n",
        "      #to update modified data\n",
        "    with open(\"studentinfo.csv\", \"w\") as file:\n",
        "      writer = csv.writer(file)\n",
        "      writer.writerows(data)\n",
        "\n",
        "    print(\"Modified attendance percentage has been written to studentinfo.csv\")\n",
        "\n",
        "#to modify assignment completation\n",
        "def modify_assignment():\n",
        "  student_id = input(\"Enter Student ID to modify: \")\n",
        "  subject = input(\"Enter subject to modify: \")\n",
        "  with open(\"studentinfo.csv\", \"r\") as file:\n",
        "    reader = csv.reader(file)\n",
        "    data = list(reader)\n",
        "\n",
        "    for row in data:\n",
        "      if row[0] == student_id and row[2] == subject:\n",
        "        row[5] = input(\"Enter new assignment completion: \")\n",
        "        break\n",
        "        #to update modified data\n",
        "    with open(\"studentinfo.csv\", \"w\") as file:\n",
        "      writer = csv.writer(file)\n",
        "      writer.writerows(data)\n",
        "\n",
        "    print(\"Modified assignment completion has been written to studentinfo.csv\")"
      ],
      "metadata": {
        "id": "tDi5DAU9mhrZ"
      },
      "execution_count": null,
      "outputs": []
    },
    {
      "cell_type": "code",
      "source": [
        "while True:\n",
        "  print(\"Modify Data\")\n",
        "  print(\"1. Modify score\")\n",
        "  print(\"2. Modify Attendance\")\n",
        "  print(\"3. Modify Assignment Percentage\")\n",
        "  print(\"4. Exit\")\n",
        "\n",
        "  choice = input(\"Enter your choice (1-4): \").strip()\n",
        "\n",
        "  if choice == \"1\":\n",
        "    modify_score()\n",
        "  if choice == \"2\":\n",
        "    modify_attendance()\n",
        "  if choice == \"3\":\n",
        "    modify_assignment()\n",
        "  if choice == \"4\":\n",
        "    print(\"Exiting the program\")\n",
        "    break"
      ],
      "metadata": {
        "colab": {
          "base_uri": "https://localhost:8080/"
        },
        "id": "DJqbCTRQmC8p",
        "outputId": "777ab372-fa4b-431e-c879-52d3a5c5f34d"
      },
      "execution_count": null,
      "outputs": [
        {
          "output_type": "stream",
          "name": "stdout",
          "text": [
            "Modify Data\n",
            "1. Modify subject\n",
            "2. Modify score\n",
            "3. Modify Attendance\n",
            "4. Modify Assignment Percentage\n",
            "5. Exit\n",
            "Enter your choice (1-5): 2\n",
            "Enter Student ID to modify: 02-B\n",
            "Enter new score: 80\n",
            "Modified score has been written to studentinfo.csv\n",
            "Modify Data\n",
            "1. Modify subject\n",
            "2. Modify score\n",
            "3. Modify Attendance\n",
            "4. Modify Assignment Percentage\n",
            "5. Exit\n",
            "Enter your choice (1-5): 5\n",
            "Exiting the program\n"
          ]
        }
      ]
    },
    {
      "cell_type": "markdown",
      "source": [
        "#***INTERACTIVE CONSOLE***"
      ],
      "metadata": {
        "id": "SKAHbfNLjuke"
      }
    },
    {
      "cell_type": "code",
      "source": [
        "while True:\n",
        "  print(\"Menu\")\n",
        "  print(\"1. Add Record\")\n",
        "  print(\"2. View Record\")\n",
        "  print(\"3. Update Record\")\n",
        "  print(\"4. Delete Record\")\n",
        "  print(\"5. Exit\")\n",
        "\n",
        "  choice = input(\"Enter your choice (1-5): \").strip()\n",
        "\n",
        "  if choice == \"1\":\n",
        "    add_record()\n",
        "  if choice == \"2\":\n",
        "    student_id = input(\"Enter Student ID to search: \")\n",
        "    result = getinfo(student_id)\n",
        "    print(f\"Student information with ID {student_id} : {result}\")\n",
        "    break\n",
        "  if choice == \"5\":\n",
        "    print(\"Exiting the program\")\n",
        "    break"
      ],
      "metadata": {
        "id": "ukScPChGjuDe",
        "colab": {
          "base_uri": "https://localhost:8080/"
        },
        "outputId": "c8624d1e-c297-4da3-fdf8-82186ae93fe8"
      },
      "execution_count": null,
      "outputs": [
        {
          "output_type": "stream",
          "name": "stdout",
          "text": [
            "Menu\n",
            "1. Add Record\n",
            "2. View Record\n",
            "3. Update Record\n",
            "4. Delete Record\n",
            "5. Exit\n",
            "Enter your choice (1-5): 1\n",
            "Enter Student ID : 04-D\n",
            "Enter Student Name: PRANTA\n",
            "Enter Subject: STA\n",
            "Enter Score: 75\n",
            "Enter Attendance Percentage: 76\n",
            "Enter Assignment Completion: YES\n",
            "Data has been written to student_info.csv\n",
            "Menu\n",
            "1. Add Record\n",
            "2. View Record\n",
            "3. Update Record\n",
            "4. Delete Record\n",
            "5. Exit\n",
            "Enter your choice (1-5): 1\n",
            "Enter Student ID : 04-D\n",
            "Enter Student Name: PRANTA\n",
            "Enter Subject: MAT\n",
            "Enter Score: 69\n",
            "Enter Attendance Percentage: 82\n",
            "Enter Assignment Completion: NO\n",
            "Data has been written to student_info.csv\n",
            "Menu\n",
            "1. Add Record\n",
            "2. View Record\n",
            "3. Update Record\n",
            "4. Delete Record\n",
            "5. Exit\n",
            "Enter your choice (1-5): 5\n",
            "Exiting the program\n"
          ]
        }
      ]
    },
    {
      "cell_type": "markdown",
      "source": [
        "#***READ CSV FILE***"
      ],
      "metadata": {
        "id": "vgpz19IlpoOR"
      }
    },
    {
      "cell_type": "code",
      "source": [
        "with open (\"studentinfo.csv\",\"r\") as file:\n",
        "  print(file.read())"
      ],
      "metadata": {
        "id": "I4h9J10WjuBX",
        "colab": {
          "base_uri": "https://localhost:8080/"
        },
        "outputId": "284cde73-7497-4c12-a55e-485bfe790d90"
      },
      "execution_count": null,
      "outputs": [
        {
          "output_type": "stream",
          "name": "stdout",
          "text": [
            "Student ID,Student Name,Subject,\"Subject,Score\",Attendance Percentage,Assignment Completion\n",
            "01-A,TOUKIR,STA,79,90,YES\n",
            "02-B,AUDIT,STA,80,99,NO\n",
            "\n"
          ]
        }
      ]
    },
    {
      "cell_type": "markdown",
      "source": [
        "#SAVING TO DRIVE"
      ],
      "metadata": {
        "id": "v0o_EyfLsc-2"
      }
    },
    {
      "cell_type": "code",
      "source": [
        "from google.colab import drive\n",
        "drive.mount('/content/drive')"
      ],
      "metadata": {
        "id": "-CIlixuEjt-_",
        "colab": {
          "base_uri": "https://localhost:8080/"
        },
        "outputId": "b498da35-ba23-4ff4-fd85-00e601e37018"
      },
      "execution_count": null,
      "outputs": [
        {
          "output_type": "stream",
          "name": "stdout",
          "text": [
            "Drive already mounted at /content/drive; to attempt to forcibly remount, call drive.mount(\"/content/drive\", force_remount=True).\n"
          ]
        }
      ]
    },
    {
      "cell_type": "code",
      "source": [
        "import shutil\n",
        "shutil.copy('studentinfo.csv', '/content/drive/My Drive/studentinfo.csv')"
      ],
      "metadata": {
        "colab": {
          "base_uri": "https://localhost:8080/",
          "height": 36
        },
        "id": "ZbPiZKyBrVhX",
        "outputId": "36dc041d-0337-40da-aff1-c755bc1916be"
      },
      "execution_count": null,
      "outputs": [
        {
          "output_type": "execute_result",
          "data": {
            "text/plain": [
              "'/content/drive/My Drive/studentinfo.csv'"
            ],
            "application/vnd.google.colaboratory.intrinsic+json": {
              "type": "string"
            }
          },
          "metadata": {},
          "execution_count": 14
        }
      ]
    },
    {
      "cell_type": "markdown",
      "source": [
        "#***DATA ANALYSIS AND MANUPULATION***"
      ],
      "metadata": {
        "id": "VKmLl5RcsVHx"
      }
    },
    {
      "cell_type": "code",
      "source": [
        "\n",
        "\n",
        "import pandas as pd\n",
        "\n",
        "# Load the data\n",
        "data = pd.read_csv('studentinfo.csv', na_values=['YES' == 1, 'NO' == 0])\n",
        "\n",
        "# print(data.head())\n",
        "\n",
        "# Group by student ID and get statistics\n",
        "student_stats = data.groupby(['Student ID','Student Name'])['Score'].agg(['min', 'max', 'mean'])\n",
        "\n",
        "# Rename columns for better readability\n",
        "student_stats = student_stats.rename(columns={\n",
        "    'min': 'Minimum Score',\n",
        "    'max': 'Maximum Score',\n",
        "    'mean': 'Average Score'\n",
        "})\n",
        "\n",
        "# Display results\n",
        "print(student_stats)"
      ],
      "metadata": {
        "colab": {
          "base_uri": "https://localhost:8080/"
        },
        "id": "p8_09XJ7sJLG",
        "outputId": "933c0708-75d7-492c-9b80-be6fccf6010f"
      },
      "execution_count": null,
      "outputs": [
        {
          "output_type": "stream",
          "name": "stdout",
          "text": [
            "                         Minimum Score  Maximum Score  Average Score\n",
            "Student ID Student Name                                             \n",
            "01-A       TOUKIR                   79             91           85.0\n",
            "02-B       AUDIT                    69             80           74.5\n",
            "03-C       RIAD                     75             89           82.0\n",
            "04-D       PRANTA                   69             75           72.0\n"
          ]
        }
      ]
    },
    {
      "cell_type": "code",
      "source": [
        "\n",
        "# Convert 'Attendance Percentage' and 'Assignment Completion' to numeric, handling errors\n",
        "# data['Attendance Percentage'] = pd.to_numeric(data['Attendance Percentage'], errors='coerce')\n",
        "# data['Assignment Completion'] = data['Assignment Completion'].map({'YES': 1, 'NO': 0})\n",
        "\n",
        "# Filter for students with low attendance or missing assignments\n",
        "low_attendance_or_missing_assignments = data[\n",
        "    (data['Attendance Percentage'] < 75) | (data['Assignment Completion'] == 'NO')\n",
        "]\n",
        "\n",
        "# Display the result\n",
        "print(low_attendance_or_missing_assignments)"
      ],
      "metadata": {
        "colab": {
          "base_uri": "https://localhost:8080/"
        },
        "id": "Rla-E6HtsJGH",
        "outputId": "818695e0-9d88-4dd6-b298-b544d88c1204"
      },
      "execution_count": null,
      "outputs": [
        {
          "output_type": "stream",
          "name": "stdout",
          "text": [
            "  Student ID Student Name Subject  Score  Attendance Percentage  \\\n",
            "1       02-B        AUDIT     STA     80                     99   \n",
            "2       03-C         RIAD     STA     89                     97   \n",
            "3       01-A       TOUKIR     MAT     91                     89   \n",
            "7       04-D       PRANTA     MAT     69                     82   \n",
            "\n",
            "  Assignment Completion  \n",
            "1                    NO  \n",
            "2                    NO  \n",
            "3                    NO  \n",
            "7                    NO  \n"
          ]
        }
      ]
    },
    {
      "cell_type": "code",
      "source": [
        "print(data)"
      ],
      "metadata": {
        "colab": {
          "base_uri": "https://localhost:8080/"
        },
        "id": "F8Z78XavsJDu",
        "outputId": "b3389dbc-1a6b-4ab0-bb13-9c0ac7951e76"
      },
      "execution_count": null,
      "outputs": [
        {
          "output_type": "stream",
          "name": "stdout",
          "text": [
            "  Student ID Student Name Subject  Score  Attendance Percentage  \\\n",
            "0       01-A       TOUKIR     STA     79                     90   \n",
            "1       02-B        AUDIT     STA     80                     99   \n",
            "2       03-C         RIAD     STA     89                     97   \n",
            "3       01-A       TOUKIR     MAT     91                     89   \n",
            "4       03-C         RIAD     MAT     75                     97   \n",
            "5       02-B        AUDIT     MAT     69                     85   \n",
            "6       04-D       PRANTA     STA     75                     76   \n",
            "7       04-D       PRANTA     MAT     69                     82   \n",
            "\n",
            "  Assignment Completion  \n",
            "0                   YES  \n",
            "1                    NO  \n",
            "2                    NO  \n",
            "3                    NO  \n",
            "4                   YES  \n",
            "5                   YES  \n",
            "6                   YES  \n",
            "7                    NO  \n"
          ]
        }
      ]
    },
    {
      "cell_type": "code",
      "source": [
        "print(type(data['Assignment Completion']))"
      ],
      "metadata": {
        "colab": {
          "base_uri": "https://localhost:8080/"
        },
        "id": "52Q9ubc2sI98",
        "outputId": "f4132e6b-3198-4081-952e-ebe3fcb2aa80"
      },
      "execution_count": null,
      "outputs": [
        {
          "output_type": "stream",
          "name": "stdout",
          "text": [
            "<class 'pandas.core.series.Series'>\n"
          ]
        }
      ]
    },
    {
      "cell_type": "code",
      "source": [],
      "metadata": {
        "id": "qMqyzcfysI4I"
      },
      "execution_count": null,
      "outputs": []
    },
    {
      "cell_type": "code",
      "source": [],
      "metadata": {
        "id": "aONL8qJusIyY"
      },
      "execution_count": null,
      "outputs": []
    }
  ]
}