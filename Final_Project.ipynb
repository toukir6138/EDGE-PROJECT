{
  "nbformat": 4,
  "nbformat_minor": 0,
  "metadata": {
    "colab": {
      "provenance": [],
      "authorship_tag": "ABX9TyOMV0IZoOX8ApBkTt60Rfek",
      "include_colab_link": true
    },
    "kernelspec": {
      "name": "python3",
      "display_name": "Python 3"
    },
    "language_info": {
      "name": "python"
    }
  },
  "cells": [
    {
      "cell_type": "markdown",
      "metadata": {
        "id": "view-in-github",
        "colab_type": "text"
      },
      "source": [
        "<a href=\"https://colab.research.google.com/github/toukir6138/EDGE-PROJECT-22/blob/main/Final_Project.ipynb\" target=\"_parent\"><img src=\"https://colab.research.google.com/assets/colab-badge.svg\" alt=\"Open In Colab\"/></a>"
      ]
    },
    {
      "cell_type": "markdown",
      "source": [
        "#***SAVING TO DRIVE***"
      ],
      "metadata": {
        "id": "v0o_EyfLsc-2"
      }
    },
    {
      "cell_type": "code",
      "source": [
        "from google.colab import drive\n",
        "drive.mount('/content/drive')"
      ],
      "metadata": {
        "id": "-CIlixuEjt-_",
        "colab": {
          "base_uri": "https://localhost:8080/"
        },
        "outputId": "50a8f42e-a771-4ee9-e5e5-7bb17324f4f5"
      },
      "execution_count": 56,
      "outputs": [
        {
          "output_type": "stream",
          "name": "stdout",
          "text": [
            "Drive already mounted at /content/drive; to attempt to forcibly remount, call drive.mount(\"/content/drive\", force_remount=True).\n"
          ]
        }
      ]
    },
    {
      "cell_type": "code",
      "source": [
        "# import shutil\n",
        "# shutil.copy('studentinfo.csv', '/content/drive/My Drive/studentinfo.csv')"
      ],
      "metadata": {
        "id": "ZbPiZKyBrVhX"
      },
      "execution_count": null,
      "outputs": []
    },
    {
      "cell_type": "code",
      "execution_count": null,
      "metadata": {
        "colab": {
          "base_uri": "https://localhost:8080/"
        },
        "id": "nQ6htFCrOKRQ",
        "outputId": "c21bf6b8-7e1f-4c8b-9972-5243f9f2f678"
      },
      "outputs": [
        {
          "output_type": "stream",
          "name": "stdout",
          "text": [
            "Trainee Name : Toukiroj Jaman\n",
            "Trainee ID   : PP-04-22\n"
          ]
        }
      ],
      "source": [
        "print('''Trainee Name : Toukiroj Jaman\n",
        "Trainee ID   : PP-04-22''')"
      ]
    },
    {
      "cell_type": "markdown",
      "source": [
        "#***DATA COLLECTION AND STORAGE***"
      ],
      "metadata": {
        "id": "zouQ3TSHjXpH"
      }
    },
    {
      "cell_type": "code",
      "source": [
        "import re\n",
        "import csv"
      ],
      "metadata": {
        "id": "RSEKSCZ9re7M"
      },
      "execution_count": 26,
      "outputs": []
    },
    {
      "cell_type": "code",
      "source": [
        "with open (\"studentinfo.csv\",\"w\") as file:\n",
        "  writer = csv.writer(file)\n",
        "  writer.writerow(['Student ID','Student Name','Subject','Score','Attendance Percentage','Assignment Completion'])"
      ],
      "metadata": {
        "id": "RToummJUjdPH"
      },
      "execution_count": 27,
      "outputs": []
    },
    {
      "cell_type": "markdown",
      "source": [
        "#***READ CSV FILE***"
      ],
      "metadata": {
        "id": "vgpz19IlpoOR"
      }
    },
    {
      "cell_type": "code",
      "source": [
        "with open (\"/content/drive/My Drive/studentinfo.csv\",\"r\") as file:\n",
        "  print(file.read())"
      ],
      "metadata": {
        "id": "I4h9J10WjuBX",
        "colab": {
          "base_uri": "https://localhost:8080/"
        },
        "outputId": "a92bfb5a-728b-4a23-e475-ab46ad6752a0",
        "collapsed": true
      },
      "execution_count": 28,
      "outputs": [
        {
          "output_type": "stream",
          "name": "stdout",
          "text": [
            "Student ID,Student Name,Subject,Score,Attendance Percentage,Assignment Completion\n",
            "01-A,TOUKIR,MAT,90,87,YES\n",
            "01-A,TOUKIR,STA,79,90,YES\n",
            "02-B,AUDIT,CSE,89,78,YES\n",
            "02-B,AUDIT,SOC,80,99,NO\n",
            "03-C,RIAD,PAD,68,88,YES\n",
            "03-C,RIAD,CSE,89,97,NO\n",
            "04-D,ASIF,CSE,71,87,YES\n",
            "04-D,ASIF,MAT,91,89,NO\n",
            "05-E,ALI,ECO,79,81,NO\n",
            "05-E,ALI,SCW,75,97,YES\n",
            "06-F,BORMAN,SWE,79,81,NO\n",
            "06-F,BORMAN,PAD,69,85,YES\n",
            "07-G,NADIM,BNG,81,85,NO\n",
            "07-G,NADIM,STA,75,76,YES\n",
            "08-H,IMRUL,IPE,76,81,YES\n",
            "08-H,IMRUL,MAT,69,82,NO\n",
            "\n"
          ]
        }
      ]
    },
    {
      "cell_type": "markdown",
      "source": [
        "#***FILE HANDELING***"
      ],
      "metadata": {
        "id": "jL00UrGrjjlO"
      }
    },
    {
      "cell_type": "code",
      "source": [
        "try:\n",
        "  with open (\"/content/drive/My Drive/studentinfo.csv\",\"r\") as file:\n",
        "    print(file.read())\n",
        "except FileNotFoundError:\n",
        "  print(\"File not found. Please check the file path.\")\n"
      ],
      "metadata": {
        "id": "BLLkWYSQjl1n",
        "colab": {
          "base_uri": "https://localhost:8080/"
        },
        "outputId": "6968d72f-6d0e-49ea-aca8-a34562c474a2"
      },
      "execution_count": 29,
      "outputs": [
        {
          "output_type": "stream",
          "name": "stdout",
          "text": [
            "Student ID,Student Name,Subject,Score,Attendance Percentage,Assignment Completion\n",
            "01-A,TOUKIR,MAT,90,87,YES\n",
            "01-A,TOUKIR,STA,79,90,YES\n",
            "02-B,AUDIT,CSE,89,78,YES\n",
            "02-B,AUDIT,SOC,80,99,NO\n",
            "03-C,RIAD,PAD,68,88,YES\n",
            "03-C,RIAD,CSE,89,97,NO\n",
            "04-D,ASIF,CSE,71,87,YES\n",
            "04-D,ASIF,MAT,91,89,NO\n",
            "05-E,ALI,ECO,79,81,NO\n",
            "05-E,ALI,SCW,75,97,YES\n",
            "06-F,BORMAN,SWE,79,81,NO\n",
            "06-F,BORMAN,PAD,69,85,YES\n",
            "07-G,NADIM,BNG,81,85,NO\n",
            "07-G,NADIM,STA,75,76,YES\n",
            "08-H,IMRUL,IPE,76,81,YES\n",
            "08-H,IMRUL,MAT,69,82,NO\n",
            "\n"
          ]
        }
      ]
    },
    {
      "cell_type": "markdown",
      "source": [
        "#***Add new record and get student info function***"
      ],
      "metadata": {
        "id": "BgO7kenH7m21"
      }
    },
    {
      "cell_type": "code",
      "source": [
        "#to add new record to existing csv file\n",
        "def add_record():\n",
        "    with open (\"/content/drive/My Drive/studentinfo.csv\",\"a\") as file:\n",
        "      writer = csv.writer(file)\n",
        "    while True:\n",
        "      student_id = input(\"Enter Student ID : \")\n",
        "\n",
        "      pattern = r'^0*[1-9]\\d*-[A-Z]$'\n",
        "\n",
        "      if re.match(pattern, student_id):\n",
        "          break\n",
        "      elif student_id == \"\":\n",
        "          print(\"Student ID cannot be empty.\")\n",
        "      else:\n",
        "          print(\"Enter a valid student ID\")\n",
        "\n",
        "    student_name = input(\"Enter Student Name: \")\n",
        "    subject = input(\"Enter Subject: \")\n",
        "\n",
        "    while True:\n",
        "      score = input(\"Enter Score: \")\n",
        "      try:\n",
        "          score = int(score)\n",
        "          break\n",
        "\n",
        "      except ValueError:\n",
        "          print(\"Invalid score. Please enter an integer.\")\n",
        "\n",
        "    attendance = input(\"Enter Attendance Percentage: \")\n",
        "    assignment = input(\"Enter Assignment Completion: \")\n",
        "\n",
        "    writer.writerow([student_id, student_name, subject, score, attendance, assignment])\n",
        "\n",
        "    file.close()\n",
        "    print(\"Data has been written to student_info.csv\")\n",
        "\n",
        "\n",
        "#to get student info using student id\n",
        "def getinfo():\n",
        "    student_id = input(\"Enter Student ID to search: \")\n",
        "    with open(\"/content/drive/My Drive/studentinfo.csv\", \"r\") as file:\n",
        "        reader = csv.reader(file)\n",
        "        found = False\n",
        "        for row in reader:\n",
        "            if row[0] == student_id:\n",
        "                print(row)\n",
        "                found = True\n",
        "\n",
        "        if not found:\n",
        "            print(\"Student ID not found\")"
      ],
      "metadata": {
        "id": "gZ_DAgB0jW8g"
      },
      "execution_count": 30,
      "outputs": []
    },
    {
      "cell_type": "markdown",
      "source": [
        "#***Modified or updated data back to a new CSV file***"
      ],
      "metadata": {
        "id": "QwaL5WL15oWq"
      }
    },
    {
      "cell_type": "code",
      "source": [
        "#to modify subject score of a student\n",
        "def modify_score():\n",
        "  student_id = input(\"Enter Student ID to modify: \")\n",
        "  subject = input(\"Enter subject to modify: \")\n",
        "  with open(\"studentinfo.csv\", \"r\") as file:\n",
        "    reader = csv.reader(file)\n",
        "    data = list(reader)\n",
        "\n",
        "    #to modify existing data\n",
        "    for row in data:\n",
        "      if row[0] == student_id and row[2] == subject:\n",
        "        row[3] = input(\"Enter new score: \")\n",
        "        break\n",
        "    #to update modified data\n",
        "    with open(\"studentinfo.csv\", \"w\") as file:\n",
        "      writer = csv.writer(file)\n",
        "      writer.writerows(data)\n",
        "\n",
        "  print(\"Modified score has been written to studentinfo.csv\")\n",
        "\n",
        "  #to modify attendance percentage\n",
        "def modify_attendance():\n",
        "  student_id = input(\"Enter Student ID to modify: \")\n",
        "  subject = input(\"Enter subject to modify: \")\n",
        "  with open(\"studentinfo.csv\", \"r\") as file:\n",
        "    reader = csv.reader(file)\n",
        "    data = list(reader)\n",
        "\n",
        "    for row in data:\n",
        "      if row[0] == student_id and row[2] == subject:\n",
        "        row[4] = input(\"Enter new attendance percentage: \")\n",
        "        break\n",
        "      #to update modified data\n",
        "    with open(\"studentinfo.csv\", \"w\") as file:\n",
        "      writer = csv.writer(file)\n",
        "      writer.writerows(data)\n",
        "\n",
        "    print(\"Modified attendance percentage has been written to studentinfo.csv\")\n",
        "\n",
        "#to modify assignment completation\n",
        "def modify_assignment():\n",
        "  student_id = input(\"Enter Student ID to modify: \")\n",
        "  subject = input(\"Enter subject to modify: \")\n",
        "  with open(\"studentinfo.csv\", \"r\") as file:\n",
        "    reader = csv.reader(file)\n",
        "    data = list(reader)\n",
        "\n",
        "    for row in data:\n",
        "      if row[0] == student_id and row[2] == subject:\n",
        "        row[5] = input(\"Enter new assignment completion: \")\n",
        "        break\n",
        "        #to update modified data\n",
        "    with open(\"studentinfo.csv\", \"w\") as file:\n",
        "      writer = csv.writer(file)\n",
        "      writer.writerows(data)\n",
        "\n",
        "    print(\"Modified assignment completion has been written to studentinfo.csv\")"
      ],
      "metadata": {
        "id": "tDi5DAU9mhrZ"
      },
      "execution_count": 31,
      "outputs": []
    },
    {
      "cell_type": "markdown",
      "source": [
        "#***INTERACTIVE CONSOLE***"
      ],
      "metadata": {
        "id": "SKAHbfNLjuke"
      }
    },
    {
      "cell_type": "code",
      "source": [
        "while True:\n",
        "  print(\"Menu\")\n",
        "  print(\"1. Add Record\")\n",
        "  print(\"2. View Record\")\n",
        "  print(\"3. Modify score\")\n",
        "  print(\"4. Modify Attendance\")\n",
        "  print(\"5. Modify Assignment Percentage\")\n",
        "  print(\"6. Exit\")\n",
        "\n",
        "  choice = input(\"Enter your choice (1-6): \").strip()\n",
        "\n",
        "  if choice == \"1\":\n",
        "    add_record()\n",
        "  if choice == \"2\":\n",
        "    getinfo()\n",
        "  if choice == \"3\":\n",
        "    modify_score()\n",
        "  if choice == \"4\":\n",
        "    modify_attendance()\n",
        "  if choice == \"5\":\n",
        "    modify_assignment()\n",
        "  if choice == \"6\":\n",
        "    print(\"Exiting the program\")\n",
        "    break"
      ],
      "metadata": {
        "id": "ukScPChGjuDe",
        "colab": {
          "base_uri": "https://localhost:8080/"
        },
        "outputId": "1a5d6374-b12c-4dbd-9782-d9f9f1c2a9ff"
      },
      "execution_count": 32,
      "outputs": [
        {
          "output_type": "stream",
          "name": "stdout",
          "text": [
            "Menu\n",
            "1. Add Record\n",
            "2. View Record\n",
            "3. Modify score\n",
            "4. Modify Attendance\n",
            "5. Modify Assignment Percentage\n",
            "6. Exit\n",
            "Enter your choice (1-6): 2\n",
            "Enter Student ID to search: 01-A\n",
            "['01-A', 'TOUKIR', 'MAT', '90', '87', 'YES']\n",
            "['01-A', 'TOUKIR', 'STA', '79', '90', 'YES']\n",
            "Menu\n",
            "1. Add Record\n",
            "2. View Record\n",
            "3. Modify score\n",
            "4. Modify Attendance\n",
            "5. Modify Assignment Percentage\n",
            "6. Exit\n",
            "Enter your choice (1-6): 6\n",
            "Exiting the program\n"
          ]
        }
      ]
    },
    {
      "cell_type": "markdown",
      "source": [
        "#***DATA ANALYSIS AND MANUPULATION***"
      ],
      "metadata": {
        "id": "VKmLl5RcsVHx"
      }
    },
    {
      "cell_type": "code",
      "source": [
        "import pandas as pd"
      ],
      "metadata": {
        "id": "INo-zq2Vm6Ng"
      },
      "execution_count": 33,
      "outputs": []
    },
    {
      "cell_type": "code",
      "source": [
        "data = pd.read_csv('/content/drive/My Drive/studentinfo.csv', na_values=['YES' == 1, 'NO' == 0])\n",
        "\n",
        "# print(data.head())\n",
        "\n",
        "student_stats = data.groupby(['Student ID','Student Name'])['Score'].agg(['min', 'max', 'mean'])\n",
        "\n",
        "student_stats = student_stats.rename(columns={\n",
        "    'min': 'Minimum Score',\n",
        "    'max': 'Maximum Score',\n",
        "    'mean': 'Average Score'\n",
        "})\n",
        "\n",
        "print(student_stats)"
      ],
      "metadata": {
        "colab": {
          "base_uri": "https://localhost:8080/"
        },
        "id": "p8_09XJ7sJLG",
        "outputId": "d0aa7ab0-2cbf-4bfe-e514-9b6a3d009e0d"
      },
      "execution_count": 34,
      "outputs": [
        {
          "output_type": "stream",
          "name": "stdout",
          "text": [
            "                         Minimum Score  Maximum Score  Average Score\n",
            "Student ID Student Name                                             \n",
            "01-A       TOUKIR                   79             90           84.5\n",
            "02-B       AUDIT                    80             89           84.5\n",
            "03-C       RIAD                     68             89           78.5\n",
            "04-D       ASIF                     71             91           81.0\n",
            "05-E       ALI                      75             79           77.0\n",
            "06-F       BORMAN                   69             79           74.0\n",
            "07-G       NADIM                    75             81           78.0\n",
            "08-H       IMRUL                    69             76           72.5\n"
          ]
        }
      ]
    },
    {
      "cell_type": "code",
      "source": [
        "low_attendance_or_missing_assignments = data[\n",
        "    (data['Attendance Percentage'] < 75) | (data['Assignment Completion'] == 'NO')]\n",
        "\n",
        "# Display the result\n",
        "print(low_attendance_or_missing_assignments)"
      ],
      "metadata": {
        "colab": {
          "base_uri": "https://localhost:8080/"
        },
        "id": "Rla-E6HtsJGH",
        "outputId": "ba8545f5-ab5e-4c04-96ca-0ef477eb41c9"
      },
      "execution_count": 35,
      "outputs": [
        {
          "output_type": "stream",
          "name": "stdout",
          "text": [
            "   Student ID Student Name Subject  Score  Attendance Percentage  \\\n",
            "3        02-B        AUDIT     SOC     80                     99   \n",
            "5        03-C         RIAD     CSE     89                     97   \n",
            "7        04-D         ASIF     MAT     91                     89   \n",
            "8        05-E          ALI     ECO     79                     81   \n",
            "10       06-F       BORMAN     SWE     79                     81   \n",
            "12       07-G        NADIM     BNG     81                     85   \n",
            "15       08-H        IMRUL     MAT     69                     82   \n",
            "\n",
            "   Assignment Completion  \n",
            "3                     NO  \n",
            "5                     NO  \n",
            "7                     NO  \n",
            "8                     NO  \n",
            "10                    NO  \n",
            "12                    NO  \n",
            "15                    NO  \n"
          ]
        }
      ]
    },
    {
      "cell_type": "code",
      "source": [
        "data['Score'] = pd.to_numeric(data['Score'])\n",
        "\n",
        "\n",
        "failed_students = data[(data['Score'] < 70) & (data['Subject'] == 'IPE')][['Student ID','Student Name','Subject','Score']]\n",
        "\n",
        "print(f'Failed students information :\\n {failed_students}')"
      ],
      "metadata": {
        "colab": {
          "base_uri": "https://localhost:8080/"
        },
        "id": "Sn4v8fiC7pPG",
        "outputId": "07ef65eb-390f-4650-f480-87b931d72a5c"
      },
      "execution_count": 36,
      "outputs": [
        {
          "output_type": "stream",
          "name": "stdout",
          "text": [
            "Failed students information :\n",
            " Empty DataFrame\n",
            "Columns: [Student ID, Student Name, Subject, Score]\n",
            "Index: []\n"
          ]
        }
      ]
    },
    {
      "cell_type": "markdown",
      "source": [
        "#***CONVERT SCORE TO INTEGER IF STORED AS STRING***"
      ],
      "metadata": {
        "id": "6P88mKx4npiX"
      }
    },
    {
      "cell_type": "code",
      "source": [
        "if data['Score'].dtype == 'str':\n",
        "  data['Score'] = data['Score'].astype(int)\n",
        "  print(\"Score is converted to integer type.\")\n",
        "elif data['Score'].dtype == 'int64' or data['Score'].dtype == 'int32':\n",
        "    print(\"Score is stored as an integer.\")\n"
      ],
      "metadata": {
        "id": "qMqyzcfysI4I",
        "colab": {
          "base_uri": "https://localhost:8080/"
        },
        "outputId": "dee81485-0ca6-4107-9212-93845898d723"
      },
      "execution_count": 37,
      "outputs": [
        {
          "output_type": "stream",
          "name": "stdout",
          "text": [
            "Score is stored as an integer.\n"
          ]
        }
      ]
    },
    {
      "cell_type": "markdown",
      "source": [
        "#***PLOT A BAR CHART FOR AVERAGE OF SCORE BY SUBJECT***"
      ],
      "metadata": {
        "id": "cnfMLCAg4EAm"
      }
    },
    {
      "cell_type": "code",
      "source": [
        "import matplotlib.pyplot as plt"
      ],
      "metadata": {
        "id": "F6stoqVFovZG"
      },
      "execution_count": 38,
      "outputs": []
    },
    {
      "cell_type": "code",
      "source": [
        "average_scores = data.groupby('Subject')['Score'].mean()\n",
        "\n",
        "average_scores.plot(kind='bar', figsize=(6, 4))\n",
        "plt.title('Average Scores by Subject')\n",
        "plt.xlabel('Subject')\n",
        "plt.ylabel('Average Score')\n",
        "plt.show()"
      ],
      "metadata": {
        "id": "aONL8qJusIyY",
        "colab": {
          "base_uri": "https://localhost:8080/",
          "height": 428
        },
        "outputId": "e4e78900-02d2-43db-fd7a-7192c5a84636"
      },
      "execution_count": 39,
      "outputs": [
        {
          "output_type": "display_data",
          "data": {
            "text/plain": [
              "<Figure size 600x400 with 1 Axes>"
            ],
            "image/png": "[encoded data removed]"
          },
          "metadata": {}
        }
      ]
    },
    {
      "cell_type": "markdown",
      "source": [
        "# ***Display a pie chart of attendance percentage categories (e.g., <50%, 50-75%, >75%).***"
      ],
      "metadata": {
        "id": "RnF8pg2l4WtM"
      }
    },
    {
      "cell_type": "code",
      "source": [
        "#getting attendance data from data frame\n",
        "att_data = data['Attendance Percentage']\n",
        "\n",
        "below_80 = att_data < 80\n",
        "between_80_85 = (att_data >= 80) & (att_data<= 85)\n",
        "above_90 = att_data > 90\n",
        "\n",
        "\n",
        "counts = [below_80.sum(), between_80_85.sum(), above_90.sum()]\n",
        "labels = ['<80%', '80%-85%', '>90%']\n",
        "\n",
        "# Create the pie chart\n",
        "plt.pie(counts, labels=labels, autopct='%1.1f%%', startangle=90)\n",
        "plt.title('Attendance Percentage Categories')\n",
        "plt.show()"
      ],
      "metadata": {
        "colab": {
          "base_uri": "https://localhost:8080/",
          "height": 428
        },
        "id": "B3tWtNZuuQRt",
        "outputId": "b4e02f85-8faf-4ef4-eced-595400f99924"
      },
      "execution_count": 40,
      "outputs": [
        {
          "output_type": "display_data",
          "data": {
            "text/plain": [
              "<Figure size 640x480 with 1 Axes>"
            ],
            "image/png": "[encoded data removed]"
          },
          "metadata": {}
        }
      ]
    },
    {
      "cell_type": "markdown",
      "source": [
        "#***line graph showing performance trends over time for a selected student.***"
      ],
      "metadata": {
        "id": "FtngfsWu4jvK"
      }
    },
    {
      "cell_type": "code",
      "source": [
        "#function to generate line plot of specefic student using student id\n",
        "def lineplot_student_performance():\n",
        "  student_id = input(\"Enter Student ID to plot: \")\n",
        "\n",
        "  student_data = data[data['Student ID'] == student_id]\n",
        "\n",
        "  plt.plot(student_data.index, student_data['Score'], marker='*')\n",
        "  plt.title(f'Performance Trend for Student ID: {student_id}')\n",
        "  plt.xlabel('Time')\n",
        "  plt.ylabel('Score')\n",
        "  plt.grid(True)\n",
        "  plt.show()"
      ],
      "metadata": {
        "id": "UyUoji9nzcQb"
      },
      "execution_count": 41,
      "outputs": []
    },
    {
      "cell_type": "code",
      "source": [
        "#generate line plot of student\n",
        "while True:\n",
        "  print(\"Menu\")\n",
        "  print(\"1. Plot Student Performance\")\n",
        "  print(\"2. Exit\")\n",
        "\n",
        "  choice = input(\"Enter your choice (1-2): \").strip()\n",
        "\n",
        "  if choice == \"1\":\n",
        "    lineplot_student_performance()\n",
        "  if choice == \"2\":\n",
        "    print(\"Exiting the program\")\n",
        "    break"
      ],
      "metadata": {
        "colab": {
          "base_uri": "https://localhost:8080/",
          "height": 646
        },
        "id": "VD3h71LT3ks9",
        "outputId": "f9f95f4c-2f90-42af-a3b1-2a33a9a46782"
      },
      "execution_count": 51,
      "outputs": [
        {
          "name": "stdout",
          "output_type": "stream",
          "text": [
            "Menu\n",
            "1. Plot Student Performance\n",
            "2. Exit\n",
            "Enter your choice (1-2): 1\n",
            "Enter Student ID to plot: 01-A\n"
          ]
        },
        {
          "output_type": "display_data",
          "data": {
            "text/plain": [
              "<Figure size 640x480 with 1 Axes>"
            ],
            "image/png": "[encoded data removed]"
          },
          "metadata": {}
        },
        {
          "output_type": "stream",
          "name": "stdout",
          "text": [
            "Menu\n",
            "1. Plot Student Performance\n",
            "2. Exit\n",
            "Enter your choice (1-2): 2\n",
            "Exiting the program\n"
          ]
        }
      ]
    },
    {
      "cell_type": "code",
      "source": [
        "#to get aggregate of specific student\n",
        "def agg_score():\n",
        "    while True:\n",
        "      student_id = input(\"Enter Student ID to calculate aggregate score: \")\n",
        "\n",
        "\n",
        "      student_data = data[data['Student ID'] == student_id]\n",
        "\n",
        "      if student_data.empty:\n",
        "          print(f\"Student ID {student_id} not found in the data.\")\n",
        "\n",
        "      else:\n",
        "          aggregate_score = student_data['Score'].agg(['min', 'max', 'mean'])\n",
        "          print(f\"Aggregate score for student ID {student_id}: \\n{aggregate_score}\")\n",
        "          break\n",
        "\n",
        "#score determining function\n",
        "def det_grade(score):\n",
        "    if score >= 90:\n",
        "        return 'A'\n",
        "    elif score >= 80:\n",
        "        return 'B'\n",
        "    elif score >= 70:\n",
        "        return 'C'\n",
        "    else:\n",
        "        return 'Fail'\n",
        "\n",
        "#function to forecast grade according to subject via student id\n",
        "def grades_by_subject():\n",
        "   while True:\n",
        "      student_id = input(\"Enter Student ID to show grades: \")\n",
        "      student_data = data[data['Student ID'] == student_id].copy()\n",
        "\n",
        "      if student_data.empty:\n",
        "          print(f\"No data found for student ID: {student_id}\")\n",
        "      else:\n",
        "        student_data['Grade'] = student_data['Score'].apply(det_grade)\n",
        "        print(student_data[['Student ID','Student Name','Subject','Score','Grade']])\n",
        "        break\n",
        "\n",
        "#student report\n",
        "def student_report():\n",
        "    while True:\n",
        "      student_id = input(\"Enter Student ID to generate report: \")\n",
        "      student_data = data[data['Student ID'] == student_id]\n",
        "      if student_data.empty:\n",
        "          print(f\"No data found for student ID: {student_id}\")\n",
        "      else:\n",
        "          print(f\"Report for Student ID: {student_id}\")\n",
        "          print(student_data[['Student ID','Student Name','Subject','Score']])\n",
        "          break\n",
        "\n"
      ],
      "metadata": {
        "id": "CMeNMZr65d6U"
      },
      "execution_count": 43,
      "outputs": []
    },
    {
      "cell_type": "code",
      "source": [
        "while True:\n",
        "  print(\"Menu\")\n",
        "  print(\"1. Calculate Student Aggregate Score\")\n",
        "  print(\"2. Student Grade\")\n",
        "  print(\"3. Generate Student Report\")\n",
        "  print(\"4. Exit\")\n",
        "\n",
        "  choice = input(\"Enter your choice (1-3): \").strip()\n",
        "\n",
        "  if choice == \"1\":\n",
        "    agg_score()\n",
        "  if choice == \"2\":\n",
        "    grades_by_subject()\n",
        "  if choice == \"3\":\n",
        "    student_report()\n",
        "  if choice == \"4\":\n",
        "    print(\"Exiting the program\")\n",
        "    break"
      ],
      "metadata": {
        "colab": {
          "base_uri": "https://localhost:8080/"
        },
        "id": "VbTg9Boh_3kT",
        "outputId": "4111130a-f4ae-4087-958a-0301dc8c058c"
      },
      "execution_count": 52,
      "outputs": [
        {
          "output_type": "stream",
          "name": "stdout",
          "text": [
            "Menu\n",
            "1. Calculate Student Aggregate Score\n",
            "2. Student Grade\n",
            "3. Generate Student Report\n",
            "4. Exit\n",
            "Enter your choice (1-3): 1\n",
            "Enter Student ID to calculate aggregate score: 01-A\n",
            "Aggregate score for student ID 01-A: \n",
            "min     79.0\n",
            "max     90.0\n",
            "mean    84.5\n",
            "Name: Score, dtype: float64\n",
            "Menu\n",
            "1. Calculate Student Aggregate Score\n",
            "2. Student Grade\n",
            "3. Generate Student Report\n",
            "4. Exit\n",
            "Enter your choice (1-3): 2\n",
            "Enter Student ID to show grades: 01-A\n",
            "  Student ID Student Name Subject  Score Grade\n",
            "0       01-A       TOUKIR     MAT     90     A\n",
            "1       01-A       TOUKIR     STA     79     C\n",
            "Menu\n",
            "1. Calculate Student Aggregate Score\n",
            "2. Student Grade\n",
            "3. Generate Student Report\n",
            "4. Exit\n",
            "Enter your choice (1-3): 3\n",
            "Enter Student ID to generate report: 01-A\n",
            "Report for Student ID: 01-A\n",
            "  Student ID Student Name Subject  Score\n",
            "0       01-A       TOUKIR     MAT     90\n",
            "1       01-A       TOUKIR     STA     79\n",
            "Menu\n",
            "1. Calculate Student Aggregate Score\n",
            "2. Student Grade\n",
            "3. Generate Student Report\n",
            "4. Exit\n",
            "Enter your choice (1-3): 4\n",
            "Exiting the program\n"
          ]
        }
      ]
    }
  ]
}